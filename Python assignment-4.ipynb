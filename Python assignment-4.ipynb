{
 "cells": [
  {
   "cell_type": "markdown",
   "metadata": {},
   "source": []
  },
  {
   "cell_type": "markdown",
   "metadata": {},
   "source": [
    "1.What is the difference between a function and a method in Python?\n",
    "\n",
    "Functions:\n",
    " A function is a block of reusable code that performs a specific task. It is not tied to any object and can exist independently.\n",
    "Usage: Functions can be called directly using their name.\n",
    "Scope: Typically defined at the module level or inside other functions."
   ]
  },
  {
   "cell_type": "code",
   "execution_count": 1,
   "metadata": {},
   "outputs": [
    {
     "name": "stdout",
     "output_type": "stream",
     "text": [
      "Hello, Alice!\n"
     ]
    }
   ],
   "source": [
    "def greet(name):\n",
    "    return f\"Hello, {name}!\"\n",
    "\n",
    "# Calling the function\n",
    "print(greet(\"Alice\"))  # Output: Hello, Alice!"
   ]
  },
  {
   "cell_type": "markdown",
   "metadata": {},
   "source": [
    "Method:\n",
    "A method is a function that is defined inside a class and is associated with an object or the class itself.\n",
    "\n",
    "Binding: Methods are called on objects or classes, and the first parameter (self or cls) refers to the instance or the class.\n",
    "\n",
    "Scope: Methods are scoped within a class."
   ]
  },
  {
   "cell_type": "code",
   "execution_count": 2,
   "metadata": {},
   "outputs": [
    {
     "name": "stdout",
     "output_type": "stream",
     "text": [
      "Hello, my name is Alice.\n"
     ]
    }
   ],
   "source": [
    "class Person:\n",
    "    def __init__(self, name):\n",
    "        self.name = name\n",
    "\n",
    "    def greet(self):  \n",
    "        return f\"Hello, my name is {self.name}.\"\n",
    "\n",
    "p = Person(\"Alice\")\n",
    "print(p.greet()) "
   ]
  },
  {
   "cell_type": "markdown",
   "metadata": {},
   "source": [
    "2.Explain the concept of function arguments and parameters in Python.\n",
    "\n",
    "Parameters: The variables listed in a function's definition to receive input.\n",
    "Arguments: The actual values passed to a function when calling it."
   ]
  },
  {
   "cell_type": "code",
   "execution_count": 3,
   "metadata": {},
   "outputs": [
    {
     "name": "stdout",
     "output_type": "stream",
     "text": [
      "Hello, Alice!\n"
     ]
    }
   ],
   "source": [
    "def greet(name):  # `name` is a parameter\n",
    "    return f\"Hello, {name}!\"\n",
    "\n",
    "print(greet(\"Alice\"))  # \"Alice\" is an argument"
   ]
  },
  {
   "cell_type": "code",
   "execution_count": null,
   "metadata": {},
   "outputs": [
    {
     "name": "stdout",
     "output_type": "stream",
     "text": [
      "6\n"
     ]
    }
   ],
   "source": [
    "#variable length arguments\n",
    "# *args: For any number of positional arguments.\n",
    "def summarize(*args):\n",
    "    return sum(args)\n",
    "\n",
    "print(summarize(1, 2, 3))  # Output: 6"
   ]
  },
  {
   "cell_type": "code",
   "execution_count": 5,
   "metadata": {},
   "outputs": [
    {
     "name": "stdout",
     "output_type": "stream",
     "text": [
      "{'name': 'Alice', 'age': 25}\n"
     ]
    }
   ],
   "source": [
    "# **kwargs: For any number of keyword arguments\n",
    "def print_details(**kwargs):\n",
    "    return kwargs\n",
    "\n",
    "print(print_details(name=\"Alice\", age=25)) "
   ]
  },
  {
   "cell_type": "markdown",
   "metadata": {},
   "source": [
    "3.What are the different ways to define and call a function in Python?\n",
    "\n"
   ]
  },
  {
   "cell_type": "code",
   "execution_count": 7,
   "metadata": {},
   "outputs": [
    {
     "data": {
      "text/plain": [
       "'Hello, Aishu!'"
      ]
     },
     "execution_count": 7,
     "metadata": {},
     "output_type": "execute_result"
    }
   ],
   "source": [
    "#Use the def keyword to define a reusable function.\n",
    "def greet(name):\n",
    "    return f\"Hello, {name}!\"\n",
    "\n",
    "greet('Aishu')"
   ]
  },
  {
   "cell_type": "code",
   "execution_count": 9,
   "metadata": {},
   "outputs": [
    {
     "data": {
      "text/plain": [
       "'Hello, Guest!'"
      ]
     },
     "execution_count": 9,
     "metadata": {},
     "output_type": "execute_result"
    }
   ],
   "source": [
    "#Define a function with parameters that have default values.\n",
    "def greet(name=\"Guest\"):\n",
    "    return f\"Hello, {name}!\"\n",
    "\n",
    "greet()"
   ]
  },
  {
   "cell_type": "code",
   "execution_count": 13,
   "metadata": {},
   "outputs": [
    {
     "name": "stdout",
     "output_type": "stream",
     "text": [
      "[1, 4, 9, 16]\n"
     ]
    }
   ],
   "source": [
    "#Define a single-expression function using the lambda keyword.\n",
    "square = lambda x: x ** 2\n",
    "\n",
    "# Provide an iterable for map\n",
    "numbers = [1, 2, 3, 4]\n",
    "\n",
    "# Use map to apply the lambda function to each element of the list\n",
    "result = list(map(square, numbers))\n",
    "\n",
    "print(result) "
   ]
  },
  {
   "cell_type": "code",
   "execution_count": 15,
   "metadata": {},
   "outputs": [
    {
     "data": {
      "text/plain": [
       "40320"
      ]
     },
     "execution_count": 15,
     "metadata": {},
     "output_type": "execute_result"
    }
   ],
   "source": [
    "#Recursive Function calls itself until a condition is met\n",
    "def factorial(n):\n",
    "    return 1 if n == 0 else n * factorial(n - 1)\n",
    "\n",
    "factorial(8)"
   ]
  },
  {
   "cell_type": "code",
   "execution_count": 18,
   "metadata": {},
   "outputs": [
    {
     "name": "stdout",
     "output_type": "stream",
     "text": [
      "Args: (1, 2, 3), Kwargs: {}\n",
      "Args: (), Kwargs: {'a': 4, 'b': 5}\n",
      "Args: (1, 2, 3), Kwargs: {'a': 4, 'b': 5}\n"
     ]
    }
   ],
   "source": [
    "#Function with Variable-Length Arguments\n",
    "#Use *args for positional arguments and **kwargs for keyword arguments.\n",
    "def summarize(*args, **kwargs):\n",
    "    return f\"Args: {args}, Kwargs: {kwargs}\"\n",
    "\n",
    "# Call the function with positional arguments\n",
    "print(summarize(1, 2, 3))\n",
    "\n",
    "# Call the function with keyword arguments\n",
    "print(summarize(a=4, b=5))\n",
    "\n",
    "# Call the function with both positional and keyword arguments\n",
    "print(summarize(1, 2, 3, a=4, b=5))"
   ]
  },
  {
   "cell_type": "code",
   "execution_count": 21,
   "metadata": {},
   "outputs": [
    {
     "data": {
      "text/plain": [
       "'AISHU'"
      ]
     },
     "execution_count": 21,
     "metadata": {},
     "output_type": "execute_result"
    }
   ],
   "source": [
    "#Nested Function a function inside another function.\n",
    "\n",
    "def outer_function(text):\n",
    "    def inner_function():\n",
    "        return text.upper()\n",
    "    return inner_function()\n",
    "outer_function('aishu')"
   ]
  },
  {
   "cell_type": "markdown",
   "metadata": {},
   "source": [
    "4.What is the purpose of the `return` statement in a Python function?\n",
    "The return statement:\n",
    "\n",
    "Provides the result of a function to its caller.\n",
    "Ends the function's execution.\n",
    "Can return multiple or no values (None)."
   ]
  },
  {
   "cell_type": "markdown",
   "metadata": {},
   "source": [
    "5.What are iterators in Python and how do they differ from iterables?\n",
    "Iterable: Anything you can loop over.\n",
    "Iterator: A special object that fetches values one at a time and remembers its position in the iterable. An iterator is obtained by calling iter() on an iterable."
   ]
  },
  {
   "cell_type": "code",
   "execution_count": 22,
   "metadata": {},
   "outputs": [
    {
     "name": "stdout",
     "output_type": "stream",
     "text": [
      "True\n",
      "False\n",
      "True\n",
      "True\n",
      "1\n",
      "2\n",
      "3\n"
     ]
    }
   ],
   "source": [
    "# Iterable\n",
    "my_list = [1, 2, 3]\n",
    "print(hasattr(my_list, '__iter__'))  # True\n",
    "print(hasattr(my_list, '__next__'))  # False\n",
    "\n",
    "# Iterator\n",
    "my_iterator = iter(my_list)\n",
    "print(hasattr(my_iterator, '__iter__'))  # True\n",
    "print(hasattr(my_iterator, '__next__'))  # True\n",
    "\n",
    "# Using the iterator\n",
    "print(next(my_iterator))  # Output: 1\n",
    "print(next(my_iterator))  # Output: 2\n",
    "print(next(my_iterator))  # Output: 3\n",
    "# print(next(my_iterator))  # Raises StopIteration"
   ]
  },
  {
   "cell_type": "markdown",
   "metadata": {},
   "source": [
    "6.Explain the concept of generators in Python and how they are defined.\n",
    "\n",
    "A generator is a function that uses the yield keyword to produce one value at a time, saving memory by not storing all values at once.Generators are a type of iterable in Python that allow you to generate values on the fly rather than storing them in memory all at once. They are a more memory-efficient alternative to lists when dealing with large datasets.\n",
    "\n",
    "yield pauses the function and retains its state.\n",
    "Use next() to fetch the next value."
   ]
  },
  {
   "cell_type": "code",
   "execution_count": 23,
   "metadata": {},
   "outputs": [
    {
     "name": "stdout",
     "output_type": "stream",
     "text": [
      "1\n",
      "2\n",
      "3\n"
     ]
    }
   ],
   "source": [
    "def count_up_to(n):\n",
    "    for i in range(1, n + 1):\n",
    "        yield i\n",
    "\n",
    "# Create a generator object\n",
    "gen = count_up_to(3)\n",
    "\n",
    "# Retrieve values one at a time\n",
    "print(next(gen))  # Output: 1\n",
    "print(next(gen))  # Output: 2\n",
    "print(next(gen))  # Output: 3\n",
    "# print(next(gen))  # Raises StopIteration"
   ]
  },
  {
   "cell_type": "markdown",
   "metadata": {},
   "source": [
    "7.What are the advantages of using generators over regular functions?\n",
    "\n",
    "a. Memory Efficiency\n",
    "Why: Generators produce values one at a time using lazy evaluation instead of storing the entire output in memory.\n",
    "\n",
    "b.Improved Performance\n",
    "Why: Generators start producing values immediately without waiting to compute the entire result.\n",
    "Use Case: Ideal for pipelines or streaming data\n",
    "\n",
    "c.Simplifies Code for Iterators\n",
    "Why: Generators automatically handle state and iteration logic (like __iter__() and __next__()), reducing boilerplate code.\n",
    "\n",
    "d. Better for Pipelines\n",
    "Why: Generators can process data in chunks, making them ideal for real-time or streaming data.\n",
    "\n",
    "e.Lazy Evaluation\n",
    "Why: Generators calculate values only when requested, reducing unnecessary computations\n",
    "\n"
   ]
  },
  {
   "cell_type": "code",
   "execution_count": 25,
   "metadata": {},
   "outputs": [
    {
     "data": {
      "text/plain": [
       "0"
      ]
     },
     "execution_count": 25,
     "metadata": {},
     "output_type": "execute_result"
    }
   ],
   "source": [
    "def large_range():\n",
    "    for i in range(1_000_000):\n",
    "        yield i\n",
    "\n",
    "gen = large_range() \n",
    "\n",
    "next(gen)"
   ]
  },
  {
   "cell_type": "code",
   "execution_count": 26,
   "metadata": {},
   "outputs": [
    {
     "data": {
      "text/plain": [
       "1"
      ]
     },
     "execution_count": 26,
     "metadata": {},
     "output_type": "execute_result"
    }
   ],
   "source": [
    "next(gen)"
   ]
  },
  {
   "cell_type": "code",
   "execution_count": 27,
   "metadata": {},
   "outputs": [
    {
     "data": {
      "text/plain": [
       "2"
      ]
     },
     "execution_count": 27,
     "metadata": {},
     "output_type": "execute_result"
    }
   ],
   "source": [
    "next(gen)"
   ]
  },
  {
   "cell_type": "code",
   "execution_count": 39,
   "metadata": {},
   "outputs": [
    {
     "data": {
      "text/plain": [
       "<generator object custom_iterator at 0x00000205BCE90930>"
      ]
     },
     "execution_count": 39,
     "metadata": {},
     "output_type": "execute_result"
    }
   ],
   "source": [
    "def custom_iterator(n):\n",
    "    for i in range(n):\n",
    "        yield i\n",
    "\n",
    "F=custom_iterator(5)\n",
    "F"
   ]
  },
  {
   "cell_type": "code",
   "execution_count": 40,
   "metadata": {},
   "outputs": [
    {
     "data": {
      "text/plain": [
       "0"
      ]
     },
     "execution_count": 40,
     "metadata": {},
     "output_type": "execute_result"
    }
   ],
   "source": [
    "next(F)"
   ]
  },
  {
   "cell_type": "code",
   "execution_count": 41,
   "metadata": {},
   "outputs": [
    {
     "data": {
      "text/plain": [
       "1"
      ]
     },
     "execution_count": 41,
     "metadata": {},
     "output_type": "execute_result"
    }
   ],
   "source": [
    "next(F)"
   ]
  },
  {
   "cell_type": "code",
   "execution_count": 42,
   "metadata": {},
   "outputs": [
    {
     "data": {
      "text/plain": [
       "2"
      ]
     },
     "execution_count": 42,
     "metadata": {},
     "output_type": "execute_result"
    }
   ],
   "source": [
    "next(F)"
   ]
  },
  {
   "cell_type": "code",
   "execution_count": 44,
   "metadata": {},
   "outputs": [
    {
     "data": {
      "text/plain": [
       "<generator object infinite_counter at 0x00000205BC6E7280>"
      ]
     },
     "execution_count": 44,
     "metadata": {},
     "output_type": "execute_result"
    }
   ],
   "source": [
    "def infinite_counter():\n",
    "    count = 1\n",
    "    while True:\n",
    "        yield count\n",
    "        count += 1\n",
    "\n",
    "C= infinite_counter()\n",
    "C"
   ]
  },
  {
   "cell_type": "code",
   "execution_count": 45,
   "metadata": {},
   "outputs": [
    {
     "data": {
      "text/plain": [
       "1"
      ]
     },
     "execution_count": 45,
     "metadata": {},
     "output_type": "execute_result"
    }
   ],
   "source": [
    "next(C)"
   ]
  },
  {
   "cell_type": "code",
   "execution_count": 46,
   "metadata": {},
   "outputs": [
    {
     "data": {
      "text/plain": [
       "2"
      ]
     },
     "execution_count": 46,
     "metadata": {},
     "output_type": "execute_result"
    }
   ],
   "source": [
    "next(C)"
   ]
  },
  {
   "cell_type": "code",
   "execution_count": 47,
   "metadata": {},
   "outputs": [
    {
     "data": {
      "text/plain": [
       "3"
      ]
     },
     "execution_count": 47,
     "metadata": {},
     "output_type": "execute_result"
    }
   ],
   "source": [
    "next(C)"
   ]
  },
  {
   "cell_type": "code",
   "execution_count": 48,
   "metadata": {},
   "outputs": [
    {
     "name": "stdout",
     "output_type": "stream",
     "text": [
      "0\n",
      "1\n",
      "4\n",
      "9\n",
      "16\n",
      "25\n",
      "36\n",
      "49\n",
      "64\n",
      "81\n"
     ]
    }
   ],
   "source": [
    "def squares(nums):\n",
    "    for num in nums:\n",
    "        yield num ** 2\n",
    "\n",
    "data = squares(range(10))\n",
    "for value in data:\n",
    "    print(value)  # Processes one square at a time."
   ]
  },
  {
   "cell_type": "markdown",
   "metadata": {},
   "source": [
    "8.What is a lambda function in Python and when is it typically used?\n",
    "\n",
    "A lambda function is a compact, anonymous function defined using the lambda keyword. It can take any number of arguments but is limited to a single expression.\n",
    "\n",
    "syntax: lambda arguments: expression\n",
    "Arguments: Inputs to the lambda function.\n",
    "Expression: The single computation performed by the lambda function. The result is returned automatically."
   ]
  },
  {
   "cell_type": "code",
   "execution_count": 49,
   "metadata": {},
   "outputs": [
    {
     "name": "stdout",
     "output_type": "stream",
     "text": [
      "25\n"
     ]
    }
   ],
   "source": [
    "# Lambda function to calculate the square of a number\n",
    "square = lambda x: x ** 2\n",
    "print(square(5))  # Output: 25"
   ]
  },
  {
   "cell_type": "markdown",
   "metadata": {},
   "source": [
    "Lambda functions are typically used in scenarios where a short, simple function is required, especially when defining it inline:\n",
    "\n",
    "1. In Higher-Order Functions\n",
    "Higher-order functions like map(), filter(), and sorted() often use lambda functions as arguments.\n",
    "2. For Sorting with Custom Keys\n",
    "Use a lambda function as the key argument in sorted() or max()/min().\n",
    "3. In Anonymous, One-Off Use Cases\n",
    "Lambda functions are ideal for quick, throwaway computations without needing a formal def function.\n",
    "4. In Data Processing Pipelines\n",
    "Often used in libraries like pandas or for list comprehensions in concise data transformations.\n",
    "\n",
    "Advantages\n",
    "Concise and clean syntax for small functions.\n",
    "Ideal for quick, one-off computations.\n",
    "Limitations\n",
    "Single Expression: Lambda functions are limited to a single expression and cannot include statements or multiline logic.\n",
    "Readability: Excessive use of lambda functions can reduce code readability.\n",
    "No Name: Lambda functions are anonymous, so debugging is harder compared to named functions."
   ]
  },
  {
   "cell_type": "code",
   "execution_count": 50,
   "metadata": {},
   "outputs": [
    {
     "name": "stdout",
     "output_type": "stream",
     "text": [
      "[1, 4, 9, 16]\n"
     ]
    }
   ],
   "source": [
    "# Using lambda with map\n",
    "nums = [1, 2, 3, 4]\n",
    "squared = list(map(lambda x: x ** 2, nums))\n",
    "print(squared)  # Output: [1, 4, 9, 16]"
   ]
  },
  {
   "cell_type": "code",
   "execution_count": 51,
   "metadata": {},
   "outputs": [
    {
     "name": "stdout",
     "output_type": "stream",
     "text": [
      "[(4, 1), (2, 2), (1, 3)]\n"
     ]
    }
   ],
   "source": [
    "# Sorting by the second element in each tuple\n",
    "pairs = [(1, 3), (4, 1), (2, 2)]\n",
    "sorted_pairs = sorted(pairs, key=lambda x: x[1])\n",
    "print(sorted_pairs) "
   ]
  },
  {
   "cell_type": "code",
   "execution_count": 52,
   "metadata": {},
   "outputs": [
    {
     "name": "stdout",
     "output_type": "stream",
     "text": [
      "8\n"
     ]
    }
   ],
   "source": [
    "# One-time use\n",
    "print((lambda x, y: x + y)(3, 5))"
   ]
  },
  {
   "cell_type": "markdown",
   "metadata": {},
   "source": [
    "9.  Explain the purpose and usage of the `map()` function in Python.\n",
    "\n",
    "The map() function is a built-in function in Python that applies a given function to each item in an iterable (like a list, tuple, etc.) and returns a map object (an iterator) that produces the results. It's commonly used to process or transform the elements of an iterable in a functional programming style.\n",
    "\n",
    "syntax: map(function, iterable, ...)\n",
    "function: A function to apply to each item of the iterable.\n",
    "iterable: An iterable (like a list, tuple, etc.) whose items will be processed by the function.\n",
    "You can pass multiple iterables, and the function will apply to items from each iterable in parallel.\n",
    "\n",
    "map() returns a map object (an iterator), which can be converted to a list, tuple, or any other iterable type if needed."
   ]
  },
  {
   "cell_type": "markdown",
   "metadata": {},
   "source": [
    "Key Points\n",
    "Lazy Evaluation: map() returns an iterator, so the actual computation is delayed until you iterate over the result. This is memory efficient, especially for large datasets.\n",
    "Can Be Used with Any Callable: The function passed to map() can be a regular function, lambda, or even a method.\n",
    "Parallel Processing: When multiple iterables are provided, map() processes them element by element, making it useful for parallel transformations.\n",
    "\n",
    "\n",
    "Advantages of Using map()\n",
    "Cleaner Code: Using map() can be more concise and readable compared to using a loop.\n",
    "Performance: Since map() returns an iterator, it can be more memory-efficient compared to storing intermediate results in a list.\n",
    "Functional Programming Style: It allows for more functional-style programming, where operations are applied to data without explicit looping."
   ]
  },
  {
   "cell_type": "code",
   "execution_count": 53,
   "metadata": {},
   "outputs": [
    {
     "name": "stdout",
     "output_type": "stream",
     "text": [
      "[1, 8, 27, 64]\n"
     ]
    }
   ],
   "source": [
    "# Using map with a lambda function to cube each number\n",
    "nums = [1, 2, 3, 4]\n",
    "\n",
    "cubed_nums = map(lambda x: x ** 3, nums)\n",
    "\n",
    "# Convert map object to list\n",
    "print(list(cubed_nums))"
   ]
  },
  {
   "cell_type": "markdown",
   "metadata": {},
   "source": [
    "10.  What is the difference between `map()`, `reduce()`, and `filter()` functions in Python?\n",
    "\n",
    "The map(), reduce(), and filter() functions in Python are all higher-order functions that allow you to process iterables in a functional programming style. They have different purposes and are used in distinct scenarios.\n",
    "\n",
    "1. map() Function\n",
    "Purpose: The map() function applies a given function to each item of an iterable (or multiple iterables) and returns an iterator with the results.\n",
    "Use Case: When you want to apply a transformation to every element in an iterable (e.g., squaring numbers, converting strings to uppercase).\n",
    "syntax: map(function, iterable, ...) \n",
    "Returns: An iterator, which can be converted to a list, tuple, etc\n",
    "\n",
    "2. reduce() Function\n",
    "Purpose: The reduce() function is used to apply a binary function (a function that takes two arguments) cumulatively to the items of an iterable, from left to right, so as to reduce the iterable to a single value.\n",
    "Use Case: When you want to combine all elements of an iterable into a single result (e.g., summing numbers, multiplying them, finding the greatest common divisor).\n",
    "syntax: from functools import reduce\n",
    "reduce(function, iterable, [initializer])\n",
    "Returns: A single value, which is the cumulative result of applying the function.\n",
    "\n",
    "3. filter() Function\n",
    "Purpose: The filter() function is used to filter items from an iterable by applying a function that returns True or False. Only the items for which the function returns True are included in the result.\n",
    "Use Case: When you want to filter out certain elements from an iterable based on a condition (e.g., keeping even numbers, filtering out negative values).\n",
    "syntax: filter(function, iterable)\n",
    "Returns: An iterator, which can be converted to a list, tuple, etc. The iterator yields only the items for which the function returned True.\n",
    "\n",
    "\n"
   ]
  },
  {
   "cell_type": "code",
   "execution_count": 54,
   "metadata": {},
   "outputs": [
    {
     "name": "stdout",
     "output_type": "stream",
     "text": [
      "[1, 4, 9, 16]\n"
     ]
    }
   ],
   "source": [
    "nums = [1, 2, 3, 4]\n",
    "squared = map(lambda x: x ** 2, nums)\n",
    "print(list(squared))"
   ]
  },
  {
   "cell_type": "code",
   "execution_count": 55,
   "metadata": {},
   "outputs": [
    {
     "name": "stdout",
     "output_type": "stream",
     "text": [
      "24\n"
     ]
    }
   ],
   "source": [
    "from functools import reduce\n",
    "\n",
    "nums = [1, 2, 3, 4]\n",
    "product = reduce(lambda x, y: x * y, nums)\n",
    "print(product)"
   ]
  },
  {
   "cell_type": "code",
   "execution_count": 56,
   "metadata": {},
   "outputs": [
    {
     "name": "stdout",
     "output_type": "stream",
     "text": [
      "[2, 4, 6]\n"
     ]
    }
   ],
   "source": [
    "nums = [1, 2, 3, 4, 5, 6]\n",
    "even_nums = filter(lambda x: x % 2 == 0, nums)\n",
    "print(list(even_nums))"
   ]
  }
 ],
 "metadata": {
  "kernelspec": {
   "display_name": ".venv",
   "language": "python",
   "name": "python3"
  },
  "language_info": {
   "codemirror_mode": {
    "name": "ipython",
    "version": 3
   },
   "file_extension": ".py",
   "mimetype": "text/x-python",
   "name": "python",
   "nbconvert_exporter": "python",
   "pygments_lexer": "ipython3",
   "version": "3.12.3"
  }
 },
 "nbformat": 4,
 "nbformat_minor": 2
}
